{
 "cells": [
  {
   "cell_type": "code",
   "execution_count": 45,
   "metadata": {},
   "outputs": [],
   "source": [
    "import numpy as np \n",
    "import matplotlib.pyplot as plt\n",
    "import pandas as pd"
   ]
  },
  {
   "cell_type": "code",
   "execution_count": 55,
   "metadata": {},
   "outputs": [
    {
     "name": "stdout",
     "output_type": "stream",
     "text": [
      "CONFUSION MATRIX \n",
      "\n"
     ]
    },
    {
     "data": {
      "text/plain": [
       "<matplotlib.colorbar.Colorbar at 0x1b3ecfab908>"
      ]
     },
     "execution_count": 55,
     "metadata": {},
     "output_type": "execute_result"
    },
    {
     "data": {
      "image/png": "[encoded data removed]",
      "text/plain": [
       "<Figure size 288x288 with 2 Axes>"
      ]
     },
     "metadata": {
      "needs_background": "light"
     },
     "output_type": "display_data"
    }
   ],
   "source": [
    "true_labels = pd.read_csv(\"True_result.csv\") \n",
    "predicted_labels = pd.read_csv(\"submit96.csv\")\n",
    "\n",
    "dict1 = dict()\n",
    "s = set()\n",
    "\n",
    "for index in range(0 , len(true_labels)):\n",
    "    #print(true_labels.iloc[index][0])\n",
    "    video_name = true_labels.iloc[index][0]\n",
    "    video_label = int(true_labels.iloc[index][1])\n",
    "    # give each video a label \n",
    "    dict1[video_name] = int(video_label)\n",
    "    s.add(int(video_label))\n",
    "\n",
    "numberOFClasses = len(s)\n",
    "#print(\"ID'S are given \", end='\\n\\n')\n",
    "#print(\"we have {} classes \".format(numberOFClasses), end='\\n\\n')\n",
    "\n",
    "# [testing]\n",
    "for index in range(0 , len(predicted_labels)):\n",
    "    video_name = true_labels.iloc[index][0]\n",
    "    if not(video_name in dict1.keys()):\n",
    "        print(\"not found\")\n",
    "\n",
    "# build the confusion matrix \n",
    "CMat = np.zeros([numberOFClasses, numberOFClasses])\n",
    "\n",
    "for index in range(0 , len(predicted_labels)):\n",
    "    video_name = predicted_labels.iloc[index][0]\n",
    "    predicted_label = int(predicted_labels.iloc[index][1])\n",
    "    \n",
    "    true_label = dict1[video_name]\n",
    "    CMat[true_label, predicted_label] = CMat[true_label, predicted_label] + 1\n",
    "\n",
    "print(\"CONFUSION MATRIX \" , end='\\n\\n')\n",
    "\n",
    "plt.matshow(CMat)\n",
    "plt.colorbar()"
   ]
  },
  {
   "cell_type": "markdown",
   "metadata": {},
   "source": [
    "tutorials for confusion matrix \n",
    "\n",
    "https://codeyarns.com/2014/10/24/how-to-create-a-confusion-matrix-plot-using-matplotlib/\n",
    "\n",
    "https://www.kaggle.com/grfiv4/plot-a-confusion-matrix"
   ]
  }
 ],
 "metadata": {
  "kernelspec": {
   "display_name": "Python 3",
   "language": "python",
   "name": "python3"
  },
  "language_info": {
   "codemirror_mode": {
    "name": "ipython",
    "version": 3
   },
   "file_extension": ".py",
   "mimetype": "text/x-python",
   "name": "python",
   "nbconvert_exporter": "python",
   "pygments_lexer": "ipython3",
   "version": "3.7.3"
  }
 },
 "nbformat": 4,
 "nbformat_minor": 2
}
